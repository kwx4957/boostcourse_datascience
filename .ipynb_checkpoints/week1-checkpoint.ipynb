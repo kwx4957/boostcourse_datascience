{
 "cells": [
  {
   "cell_type": "markdown",
   "id": "596078d5",
   "metadata": {},
   "source": [
    "# 1주차 퀴즈"
   ]
  },
  {
   "cell_type": "markdown",
   "id": "1a46643b",
   "metadata": {},
   "source": [
    "## 1번"
   ]
  },
  {
   "cell_type": "code",
   "execution_count": 7,
   "id": "e913a3c6",
   "metadata": {},
   "outputs": [],
   "source": [
    "question = ['Q2', 'Q3', 'Q4', 'Q5', 'Q6_1', 'Q6_2', 'Q6_3', 'Q6_4', 'Q6_5', 'Q6_6',\n",
    "       'Q6_7', 'Q6_8', 'Q6_9', 'Q6_10', 'Q6_11', 'Q6_12', 'Q7_1', 'Q7_2',\n",
    "       'Q7_3', 'Q7_4', 'Q7_5', 'Q7_6', 'Q7_7', 'Q8', 'Q9', 'Q10_1', 'Q10_2',\n",
    "       'Q10_3']\n"
   ]
  },
  {
   "cell_type": "code",
   "execution_count": 15,
   "id": "4fd2341e",
   "metadata": {},
   "outputs": [
    {
     "name": "stdout",
     "output_type": "stream",
     "text": [
      "['Q2', 'Q3', 'Q4', 'Q5', 'Q8', 'Q9']\n"
     ]
    }
   ],
   "source": [
    "answer = []\n",
    "for i in question:\n",
    "    if '_' not in i:\n",
    "        answer.append(i)\n",
    "print(answer)"
   ]
  },
  {
   "cell_type": "markdown",
   "id": "b4d536f3",
   "metadata": {},
   "source": [
    "## 2번"
   ]
  },
  {
   "cell_type": "code",
   "execution_count": 104,
   "id": "649ea69b",
   "metadata": {},
   "outputs": [
    {
     "data": {
      "text/html": [
       "<div>\n",
       "<style scoped>\n",
       "    .dataframe tbody tr th:only-of-type {\n",
       "        vertical-align: middle;\n",
       "    }\n",
       "\n",
       "    .dataframe tbody tr th {\n",
       "        vertical-align: top;\n",
       "    }\n",
       "\n",
       "    .dataframe thead th {\n",
       "        text-align: right;\n",
       "    }\n",
       "</style>\n",
       "<table border=\"1\" class=\"dataframe\">\n",
       "  <thead>\n",
       "    <tr style=\"text-align: right;\">\n",
       "      <th></th>\n",
       "      <th>Year</th>\n",
       "      <th>Canada</th>\n",
       "      <th>France</th>\n",
       "      <th>Germany</th>\n",
       "      <th>Great Britain</th>\n",
       "      <th>Japan</th>\n",
       "      <th>USA</th>\n",
       "    </tr>\n",
       "  </thead>\n",
       "  <tbody>\n",
       "    <tr>\n",
       "      <th>0</th>\n",
       "      <td>2011</td>\n",
       "      <td>81.4</td>\n",
       "      <td>82.3</td>\n",
       "      <td>80.5</td>\n",
       "      <td>81.0</td>\n",
       "      <td>82.7</td>\n",
       "      <td>78.7</td>\n",
       "    </tr>\n",
       "    <tr>\n",
       "      <th>1</th>\n",
       "      <td>2012</td>\n",
       "      <td>81.6</td>\n",
       "      <td>82.1</td>\n",
       "      <td>80.6</td>\n",
       "      <td>81.0</td>\n",
       "      <td>83.2</td>\n",
       "      <td>78.8</td>\n",
       "    </tr>\n",
       "    <tr>\n",
       "      <th>2</th>\n",
       "      <td>2013</td>\n",
       "      <td>81.7</td>\n",
       "      <td>82.3</td>\n",
       "      <td>80.6</td>\n",
       "      <td>81.1</td>\n",
       "      <td>83.4</td>\n",
       "      <td>78.8</td>\n",
       "    </tr>\n",
       "    <tr>\n",
       "      <th>3</th>\n",
       "      <td>2014</td>\n",
       "      <td>81.8</td>\n",
       "      <td>82.8</td>\n",
       "      <td>81.2</td>\n",
       "      <td>81.4</td>\n",
       "      <td>83.7</td>\n",
       "      <td>78.9</td>\n",
       "    </tr>\n",
       "    <tr>\n",
       "      <th>4</th>\n",
       "      <td>2015</td>\n",
       "      <td>81.9</td>\n",
       "      <td>82.4</td>\n",
       "      <td>80.7</td>\n",
       "      <td>81.0</td>\n",
       "      <td>83.9</td>\n",
       "      <td>78.7</td>\n",
       "    </tr>\n",
       "    <tr>\n",
       "      <th>5</th>\n",
       "      <td>2016</td>\n",
       "      <td>82.0</td>\n",
       "      <td>82.7</td>\n",
       "      <td>81.0</td>\n",
       "      <td>81.2</td>\n",
       "      <td>84.1</td>\n",
       "      <td>78.7</td>\n",
       "    </tr>\n",
       "    <tr>\n",
       "      <th>6</th>\n",
       "      <td>2017</td>\n",
       "      <td>81.9</td>\n",
       "      <td>82.7</td>\n",
       "      <td>81.1</td>\n",
       "      <td>81.3</td>\n",
       "      <td>84.2</td>\n",
       "      <td>78.6</td>\n",
       "    </tr>\n",
       "    <tr>\n",
       "      <th>7</th>\n",
       "      <td>2018</td>\n",
       "      <td>82.0</td>\n",
       "      <td>82.8</td>\n",
       "      <td>81.0</td>\n",
       "      <td>81.3</td>\n",
       "      <td>84.3</td>\n",
       "      <td>78.7</td>\n",
       "    </tr>\n",
       "    <tr>\n",
       "      <th>8</th>\n",
       "      <td>2019</td>\n",
       "      <td>82.2</td>\n",
       "      <td>82.9</td>\n",
       "      <td>81.3</td>\n",
       "      <td>81.4</td>\n",
       "      <td>84.4</td>\n",
       "      <td>78.8</td>\n",
       "    </tr>\n",
       "    <tr>\n",
       "      <th>9</th>\n",
       "      <td>2020</td>\n",
       "      <td>81.7</td>\n",
       "      <td>82.3</td>\n",
       "      <td>81.1</td>\n",
       "      <td>80.4</td>\n",
       "      <td>84.7</td>\n",
       "      <td>77.0</td>\n",
       "    </tr>\n",
       "  </tbody>\n",
       "</table>\n",
       "</div>"
      ],
      "text/plain": [
       "   Year  Canada  France  Germany  Great Britain  Japan   USA\n",
       "0  2011    81.4    82.3     80.5           81.0   82.7  78.7\n",
       "1  2012    81.6    82.1     80.6           81.0   83.2  78.8\n",
       "2  2013    81.7    82.3     80.6           81.1   83.4  78.8\n",
       "3  2014    81.8    82.8     81.2           81.4   83.7  78.9\n",
       "4  2015    81.9    82.4     80.7           81.0   83.9  78.7\n",
       "5  2016    82.0    82.7     81.0           81.2   84.1  78.7\n",
       "6  2017    81.9    82.7     81.1           81.3   84.2  78.6\n",
       "7  2018    82.0    82.8     81.0           81.3   84.3  78.7\n",
       "8  2019    82.2    82.9     81.3           81.4   84.4  78.8\n",
       "9  2020    81.7    82.3     81.1           80.4   84.7  77.0"
      ]
     },
     "execution_count": 104,
     "metadata": {},
     "output_type": "execute_result"
    }
   ],
   "source": [
    "import pandas as pd\n",
    "df = pd.read_csv(\"https://raw.githubusercontent.com/mwaskom/seaborn-data/master/healthexp.csv\")\n",
    "df.pivot_table(columns=\"Country\" ,values=\"Life_Expectancy\",index=\"Year\").tail(10).reset_index().rename_axis(None, axis=1)"
   ]
  },
  {
   "cell_type": "markdown",
   "id": "f22e170b",
   "metadata": {},
   "source": [
    "## 3번"
   ]
  },
  {
   "cell_type": "code",
   "execution_count": null,
   "id": "90a4e71e",
   "metadata": {},
   "outputs": [],
   "source": []
  },
  {
   "cell_type": "code",
   "execution_count": null,
   "id": "4cb99a64",
   "metadata": {},
   "outputs": [],
   "source": []
  },
  {
   "cell_type": "markdown",
   "id": "faeb5315",
   "metadata": {},
   "source": [
    "## 4번"
   ]
  },
  {
   "cell_type": "code",
   "execution_count": null,
   "id": "29ac419a",
   "metadata": {},
   "outputs": [],
   "source": []
  }
 ],
 "metadata": {
  "kernelspec": {
   "display_name": "Python 3 (ipykernel)",
   "language": "python",
   "name": "python3"
  },
  "language_info": {
   "codemirror_mode": {
    "name": "ipython",
    "version": 3
   },
   "file_extension": ".py",
   "mimetype": "text/x-python",
   "name": "python",
   "nbconvert_exporter": "python",
   "pygments_lexer": "ipython3",
   "version": "3.9.13"
  }
 },
 "nbformat": 4,
 "nbformat_minor": 5
}
