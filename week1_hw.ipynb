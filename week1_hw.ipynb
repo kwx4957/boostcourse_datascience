{
 "cells": [
  {
   "cell_type": "markdown",
   "id": "9192eccc",
   "metadata": {},
   "source": [
    "# 1주차 퀴즈"
   ]
  },
  {
   "cell_type": "markdown",
   "id": "21207098",
   "metadata": {},
   "source": [
    "## 1번"
   ]
  },
  {
   "cell_type": "code",
   "execution_count": 7,
   "id": "0c4355ca",
   "metadata": {},
   "outputs": [],
   "source": [
    "question = ['Q2', 'Q3', 'Q4', 'Q5', 'Q6_1', 'Q6_2', 'Q6_3', 'Q6_4', 'Q6_5', 'Q6_6',\n",
    "       'Q6_7', 'Q6_8', 'Q6_9', 'Q6_10', 'Q6_11', 'Q6_12', 'Q7_1', 'Q7_2',\n",
    "       'Q7_3', 'Q7_4', 'Q7_5', 'Q7_6', 'Q7_7', 'Q8', 'Q9', 'Q10_1', 'Q10_2',\n",
    "       'Q10_3']\n"
   ]
  },
  {
   "cell_type": "code",
   "execution_count": 15,
   "id": "0f27926b",
   "metadata": {},
   "outputs": [
    {
     "name": "stdout",
     "output_type": "stream",
     "text": [
      "['Q2', 'Q3', 'Q4', 'Q5', 'Q8', 'Q9']\n"
     ]
    }
   ],
   "source": [
    "answer = []\n",
    "for i in question:\n",
    "    if '_' not in i:\n",
    "        answer.append(i)\n",
    "print(answer)"
   ]
  },
  {
   "cell_type": "markdown",
   "id": "a6e60361",
   "metadata": {},
   "source": [
    "## 2번"
   ]
  },
  {
   "cell_type": "code",
   "execution_count": 154,
   "id": "9ba67441",
   "metadata": {},
   "outputs": [
    {
     "data": {
      "text/html": [
       "<div>\n",
       "<style scoped>\n",
       "    .dataframe tbody tr th:only-of-type {\n",
       "        vertical-align: middle;\n",
       "    }\n",
       "\n",
       "    .dataframe tbody tr th {\n",
       "        vertical-align: top;\n",
       "    }\n",
       "\n",
       "    .dataframe thead th {\n",
       "        text-align: right;\n",
       "    }\n",
       "</style>\n",
       "<table border=\"1\" class=\"dataframe\">\n",
       "  <thead>\n",
       "    <tr style=\"text-align: right;\">\n",
       "      <th></th>\n",
       "      <th>Canada</th>\n",
       "      <th>France</th>\n",
       "      <th>Germany</th>\n",
       "      <th>Great Britain</th>\n",
       "      <th>Japan</th>\n",
       "      <th>USA</th>\n",
       "    </tr>\n",
       "    <tr>\n",
       "      <th>Year</th>\n",
       "      <th></th>\n",
       "      <th></th>\n",
       "      <th></th>\n",
       "      <th></th>\n",
       "      <th></th>\n",
       "      <th></th>\n",
       "    </tr>\n",
       "  </thead>\n",
       "  <tbody>\n",
       "    <tr>\n",
       "      <th>2011</th>\n",
       "      <td>81.4</td>\n",
       "      <td>82.3</td>\n",
       "      <td>80.5</td>\n",
       "      <td>81.0</td>\n",
       "      <td>82.7</td>\n",
       "      <td>78.7</td>\n",
       "    </tr>\n",
       "    <tr>\n",
       "      <th>2012</th>\n",
       "      <td>81.6</td>\n",
       "      <td>82.1</td>\n",
       "      <td>80.6</td>\n",
       "      <td>81.0</td>\n",
       "      <td>83.2</td>\n",
       "      <td>78.8</td>\n",
       "    </tr>\n",
       "    <tr>\n",
       "      <th>2013</th>\n",
       "      <td>81.7</td>\n",
       "      <td>82.3</td>\n",
       "      <td>80.6</td>\n",
       "      <td>81.1</td>\n",
       "      <td>83.4</td>\n",
       "      <td>78.8</td>\n",
       "    </tr>\n",
       "    <tr>\n",
       "      <th>2014</th>\n",
       "      <td>81.8</td>\n",
       "      <td>82.8</td>\n",
       "      <td>81.2</td>\n",
       "      <td>81.4</td>\n",
       "      <td>83.7</td>\n",
       "      <td>78.9</td>\n",
       "    </tr>\n",
       "    <tr>\n",
       "      <th>2015</th>\n",
       "      <td>81.9</td>\n",
       "      <td>82.4</td>\n",
       "      <td>80.7</td>\n",
       "      <td>81.0</td>\n",
       "      <td>83.9</td>\n",
       "      <td>78.7</td>\n",
       "    </tr>\n",
       "    <tr>\n",
       "      <th>2016</th>\n",
       "      <td>82.0</td>\n",
       "      <td>82.7</td>\n",
       "      <td>81.0</td>\n",
       "      <td>81.2</td>\n",
       "      <td>84.1</td>\n",
       "      <td>78.7</td>\n",
       "    </tr>\n",
       "    <tr>\n",
       "      <th>2017</th>\n",
       "      <td>81.9</td>\n",
       "      <td>82.7</td>\n",
       "      <td>81.1</td>\n",
       "      <td>81.3</td>\n",
       "      <td>84.2</td>\n",
       "      <td>78.6</td>\n",
       "    </tr>\n",
       "    <tr>\n",
       "      <th>2018</th>\n",
       "      <td>82.0</td>\n",
       "      <td>82.8</td>\n",
       "      <td>81.0</td>\n",
       "      <td>81.3</td>\n",
       "      <td>84.3</td>\n",
       "      <td>78.7</td>\n",
       "    </tr>\n",
       "    <tr>\n",
       "      <th>2019</th>\n",
       "      <td>82.2</td>\n",
       "      <td>82.9</td>\n",
       "      <td>81.3</td>\n",
       "      <td>81.4</td>\n",
       "      <td>84.4</td>\n",
       "      <td>78.8</td>\n",
       "    </tr>\n",
       "    <tr>\n",
       "      <th>2020</th>\n",
       "      <td>81.7</td>\n",
       "      <td>82.3</td>\n",
       "      <td>81.1</td>\n",
       "      <td>80.4</td>\n",
       "      <td>84.7</td>\n",
       "      <td>77.0</td>\n",
       "    </tr>\n",
       "  </tbody>\n",
       "</table>\n",
       "</div>"
      ],
      "text/plain": [
       "      Canada  France  Germany  Great Britain  Japan  USA\n",
       "Year                                                    \n",
       "2011    81.4    82.3     80.5           81.0   82.7 78.7\n",
       "2012    81.6    82.1     80.6           81.0   83.2 78.8\n",
       "2013    81.7    82.3     80.6           81.1   83.4 78.8\n",
       "2014    81.8    82.8     81.2           81.4   83.7 78.9\n",
       "2015    81.9    82.4     80.7           81.0   83.9 78.7\n",
       "2016    82.0    82.7     81.0           81.2   84.1 78.7\n",
       "2017    81.9    82.7     81.1           81.3   84.2 78.6\n",
       "2018    82.0    82.8     81.0           81.3   84.3 78.7\n",
       "2019    82.2    82.9     81.3           81.4   84.4 78.8\n",
       "2020    81.7    82.3     81.1           80.4   84.7 77.0"
      ]
     },
     "execution_count": 154,
     "metadata": {},
     "output_type": "execute_result"
    }
   ],
   "source": [
    "import pandas as pd\n",
    "df = pd.read_csv(\"https://raw.githubusercontent.com/mwaskom/seaborn-data/master/healthexp.csv\")\n",
    "df = df.pivot_table(columns=\"Country\" ,values=\"Life_Expectancy\",index=\"Year\").tail(10).rename_axis(None,axis=1)\n",
    "df"
   ]
  },
  {
   "cell_type": "markdown",
   "id": "c9dc074f",
   "metadata": {},
   "source": [
    "## 3번"
   ]
  },
  {
   "cell_type": "markdown",
   "id": "2bd012d7",
   "metadata": {},
   "source": [
    "### Pandas를 통한 파일 저장과 불러오기\n",
    "\n"
   ]
  },
  {
   "cell_type": "code",
   "execution_count": 174,
   "id": "5db817b1",
   "metadata": {},
   "outputs": [],
   "source": [
    "import pandas as pd\n",
    "#read_csv(\"파일명\") : csv 파일 불러오기\n",
    "df = pd.read_csv(\"서울특별시 강남구_생활폐기물배출량_20221019.csv\", encoding='cp949')\n",
    "# shape를 통한 행과 열의 수 보기\n",
    "df.shape\n",
    "# - head, tail, sample 을 통한 일부 데이터 가져오기\n",
    "df.head()\n",
    "df.tail()\n",
    "df.sample()\n",
    "#to_csv(\"파일명\", index=False) : csv 파일로 저장하기\n",
    "df.to_csv(\"test\")"
   ]
  },
  {
   "cell_type": "markdown",
   "id": "9bbbed8d",
   "metadata": {},
   "source": [
    "### DataFrame의 info(), describe() 등을 통한 요약과 기술통계 값 구하기"
   ]
  },
  {
   "cell_type": "code",
   "execution_count": 182,
   "id": "ab49b154",
   "metadata": {},
   "outputs": [
    {
     "name": "stdout",
     "output_type": "stream",
     "text": [
      "<class 'pandas.core.frame.DataFrame'>\n",
      "RangeIndex: 12 entries, 0 to 11\n",
      "Data columns (total 3 columns):\n",
      " #   Column          Non-Null Count  Dtype \n",
      "---  ------          --------------  ----- \n",
      " 0   강남구             12 non-null     object\n",
      " 1   2019년(생활폐기물)-톤  12 non-null     int64 \n",
      " 2   2020년(생활폐기물)-톤  12 non-null     int64 \n",
      "dtypes: int64(2), object(1)\n",
      "memory usage: 416.0+ bytes\n"
     ]
    },
    {
     "data": {
      "text/plain": [
       "array([['01월', 7550, 7350],\n",
       "       ['02월', 6387, 6688],\n",
       "       ['03월', 7198, 6973],\n",
       "       ['04월', 6820, 6448],\n",
       "       ['05월', 7767, 6470],\n",
       "       ['06월', 7275, 7923],\n",
       "       ['07월', 8164, 8015],\n",
       "       ['08월', 7807, 7859],\n",
       "       ['09월', 6811, 7452],\n",
       "       ['10월', 7222, 6875],\n",
       "       ['11월', 7592, 7337],\n",
       "       ['12월', 7298, 6911]], dtype=object)"
      ]
     },
     "execution_count": 182,
     "metadata": {},
     "output_type": "execute_result"
    }
   ],
   "source": [
    "# info()\n",
    "df.info()\n",
    "# describe()\n",
    "df.describe()\n",
    "# nunique()\n",
    "df.nunique()\n",
    "# index\n",
    "df.index\n",
    "# columns\n",
    "df.columns\n",
    "# values\n",
    "df.values"
   ]
  },
  {
   "cell_type": "markdown",
   "id": "e74b284c",
   "metadata": {},
   "source": [
    "### Pandas의 DataFrame과 Series의 이해"
   ]
  },
  {
   "cell_type": "code",
   "execution_count": 212,
   "id": "8afb32df",
   "metadata": {},
   "outputs": [
    {
     "data": {
      "text/html": [
       "<div>\n",
       "<style scoped>\n",
       "    .dataframe tbody tr th:only-of-type {\n",
       "        vertical-align: middle;\n",
       "    }\n",
       "\n",
       "    .dataframe tbody tr th {\n",
       "        vertical-align: top;\n",
       "    }\n",
       "\n",
       "    .dataframe thead th {\n",
       "        text-align: right;\n",
       "    }\n",
       "</style>\n",
       "<table border=\"1\" class=\"dataframe\">\n",
       "  <thead>\n",
       "    <tr style=\"text-align: right;\">\n",
       "      <th></th>\n",
       "      <th>강남구</th>\n",
       "      <th>2019년(생활폐기물)-톤</th>\n",
       "      <th>2020년(생활폐기물)-톤</th>\n",
       "    </tr>\n",
       "  </thead>\n",
       "  <tbody>\n",
       "    <tr>\n",
       "      <th>1</th>\n",
       "      <td>02월</td>\n",
       "      <td>6387</td>\n",
       "      <td>6688</td>\n",
       "    </tr>\n",
       "    <tr>\n",
       "      <th>3</th>\n",
       "      <td>04월</td>\n",
       "      <td>6820</td>\n",
       "      <td>6448</td>\n",
       "    </tr>\n",
       "    <tr>\n",
       "      <th>5</th>\n",
       "      <td>06월</td>\n",
       "      <td>7275</td>\n",
       "      <td>7923</td>\n",
       "    </tr>\n",
       "    <tr>\n",
       "      <th>7</th>\n",
       "      <td>08월</td>\n",
       "      <td>7807</td>\n",
       "      <td>7859</td>\n",
       "    </tr>\n",
       "    <tr>\n",
       "      <th>9</th>\n",
       "      <td>10월</td>\n",
       "      <td>7222</td>\n",
       "      <td>6875</td>\n",
       "    </tr>\n",
       "    <tr>\n",
       "      <th>11</th>\n",
       "      <td>12월</td>\n",
       "      <td>7298</td>\n",
       "      <td>6911</td>\n",
       "    </tr>\n",
       "  </tbody>\n",
       "</table>\n",
       "</div>"
      ],
      "text/plain": [
       "    강남구  2019년(생활폐기물)-톤  2020년(생활폐기물)-톤\n",
       "1   02월            6387            6688\n",
       "3   04월            6820            6448\n",
       "5   06월            7275            7923\n",
       "7   08월            7807            7859\n",
       "9   10월            7222            6875\n",
       "11  12월            7298            6911"
      ]
     },
     "execution_count": 212,
     "metadata": {},
     "output_type": "execute_result"
    }
   ],
   "source": [
    "# Series : 1차원 벡터구조\n",
    "# DataFrame : 2차원 행렬구조\n",
    "\n",
    "# 색인하기\n",
    "# [컬럼]\n",
    "df[\"강남구\"] #1차원 시리즈 형태\n",
    "df[[\"강남구\"]] #2차원 데이터프레임 형태\n",
    "# .loc[행]\n",
    "df.loc[1]\n",
    "# .loc[행, 열]\n",
    "df.loc[[0,1]]\n",
    "df.loc[1:4]\n",
    "# .loc[조건식, 열]\n",
    "df.loc[df.index %2 != 0]"
   ]
  },
  {
   "cell_type": "markdown",
   "id": "18045314",
   "metadata": {},
   "source": [
    "### DataFrame의 데이터 타입 이해하기 및 다루기\n"
   ]
  },
  {
   "cell_type": "code",
   "execution_count": 221,
   "id": "c744d170",
   "metadata": {},
   "outputs": [
    {
     "ename": "TypeError",
     "evalue": "sort_values() missing 1 required positional argument: 'by'",
     "output_type": "error",
     "traceback": [
      "\u001b[0;31m---------------------------------------------------------------------------\u001b[0m",
      "\u001b[0;31mTypeError\u001b[0m                                 Traceback (most recent call last)",
      "\u001b[0;32m/var/folders/6k/7zhr2jf93vq7v_4qw8jfb1440000gn/T/ipykernel_24217/1875870229.py\u001b[0m in \u001b[0;36m<module>\u001b[0;34m\u001b[0m\n\u001b[1;32m      4\u001b[0m \u001b[0;31m# 행, 열 인덱싱\u001b[0m\u001b[0;34m\u001b[0m\u001b[0;34m\u001b[0m\u001b[0m\n\u001b[1;32m      5\u001b[0m \u001b[0;31m# 정렬하기 : sort_values 사용하기\u001b[0m\u001b[0;34m\u001b[0m\u001b[0;34m\u001b[0m\u001b[0m\n\u001b[0;32m----> 6\u001b[0;31m \u001b[0mdf\u001b[0m\u001b[0;34m.\u001b[0m\u001b[0msort_values\u001b[0m\u001b[0;34m(\u001b[0m\u001b[0;34m)\u001b[0m\u001b[0;34m\u001b[0m\u001b[0;34m\u001b[0m\u001b[0m\n\u001b[0m\u001b[1;32m      7\u001b[0m \u001b[0;31m# 조건식 사용하기\u001b[0m\u001b[0;34m\u001b[0m\u001b[0;34m\u001b[0m\u001b[0m\n",
      "\u001b[0;32m~/opt/anaconda3/lib/python3.9/site-packages/pandas/util/_decorators.py\u001b[0m in \u001b[0;36mwrapper\u001b[0;34m(*args, **kwargs)\u001b[0m\n\u001b[1;32m    309\u001b[0m                     \u001b[0mstacklevel\u001b[0m\u001b[0;34m=\u001b[0m\u001b[0mstacklevel\u001b[0m\u001b[0;34m,\u001b[0m\u001b[0;34m\u001b[0m\u001b[0;34m\u001b[0m\u001b[0m\n\u001b[1;32m    310\u001b[0m                 )\n\u001b[0;32m--> 311\u001b[0;31m             \u001b[0;32mreturn\u001b[0m \u001b[0mfunc\u001b[0m\u001b[0;34m(\u001b[0m\u001b[0;34m*\u001b[0m\u001b[0margs\u001b[0m\u001b[0;34m,\u001b[0m \u001b[0;34m**\u001b[0m\u001b[0mkwargs\u001b[0m\u001b[0;34m)\u001b[0m\u001b[0;34m\u001b[0m\u001b[0;34m\u001b[0m\u001b[0m\n\u001b[0m\u001b[1;32m    312\u001b[0m \u001b[0;34m\u001b[0m\u001b[0m\n\u001b[1;32m    313\u001b[0m         \u001b[0;32mreturn\u001b[0m \u001b[0mwrapper\u001b[0m\u001b[0;34m\u001b[0m\u001b[0;34m\u001b[0m\u001b[0m\n",
      "\u001b[0;31mTypeError\u001b[0m: sort_values() missing 1 required positional argument: 'by'"
     ]
    }
   ],
   "source": [
    "# 날짜 데이터의 변환\n",
    "# 열(column) 인덱싱\n",
    "# 행(index) 인덱싱\n",
    "# 행, 열 인덱싱\n",
    "# 정렬하기 : sort_values 사용하기\n",
    "df.sort_values()\n",
    "# 조건식 사용하기"
   ]
  },
  {
   "cell_type": "markdown",
   "id": "9f681f11",
   "metadata": {},
   "source": [
    "### 빈도수 구하기 groupby 와 pivot_table"
   ]
  },
  {
   "cell_type": "code",
   "execution_count": 220,
   "id": "8e29f4c7",
   "metadata": {},
   "outputs": [
    {
     "data": {
      "text/plain": [
       "강남구  2019년(생활폐기물)-톤  2020년(생활폐기물)-톤\n",
       "01월  7550            7350              1\n",
       "02월  6387            6688              1\n",
       "03월  7198            6973              1\n",
       "04월  6820            6448              1\n",
       "05월  7767            6470              1\n",
       "06월  7275            7923              1\n",
       "07월  8164            8015              1\n",
       "08월  7807            7859              1\n",
       "09월  6811            7452              1\n",
       "10월  7222            6875              1\n",
       "11월  7592            7337              1\n",
       "12월  7298            6911              1\n",
       "dtype: int64"
      ]
     },
     "execution_count": 220,
     "metadata": {},
     "output_type": "execute_result"
    }
   ],
   "source": [
    "# 한 개의 변수 : series.value_counts()\n",
    "df.value_counts()\n",
    "# 두 개의 변수 : pd.crosstab()\n",
    "pd.crosstab(df[\"강남구\"],df[\"2019년(생활폐기물)-톤\"],margins=True)\n",
    "\n",
    "# 다양한 연산식의 사용"
   ]
  },
  {
   "cell_type": "markdown",
   "id": "5fc062fc",
   "metadata": {},
   "source": [
    "## 4번"
   ]
  },
  {
   "cell_type": "code",
   "execution_count": 157,
   "id": "2b64c39e",
   "metadata": {},
   "outputs": [
    {
     "name": "stdout",
     "output_type": "stream",
     "text": [
      "mv: /Users/ra/Downloads/서울특별시 강남구_생활폐기물배출량_20221019.csv: No such file or directory\r\n"
     ]
    }
   ],
   "source": [
    "%mv /Users/ra/Downloads/서울특별시\\ 강남구_생활폐기물배출량_20221019.csv ."
   ]
  },
  {
   "cell_type": "code",
   "execution_count": 158,
   "id": "21737ef8",
   "metadata": {},
   "outputs": [],
   "source": [
    "import pandas as pd"
   ]
  },
  {
   "cell_type": "code",
   "execution_count": 159,
   "id": "3f39f74e",
   "metadata": {},
   "outputs": [
    {
     "data": {
      "text/html": [
       "<div>\n",
       "<style scoped>\n",
       "    .dataframe tbody tr th:only-of-type {\n",
       "        vertical-align: middle;\n",
       "    }\n",
       "\n",
       "    .dataframe tbody tr th {\n",
       "        vertical-align: top;\n",
       "    }\n",
       "\n",
       "    .dataframe thead th {\n",
       "        text-align: right;\n",
       "    }\n",
       "</style>\n",
       "<table border=\"1\" class=\"dataframe\">\n",
       "  <thead>\n",
       "    <tr style=\"text-align: right;\">\n",
       "      <th></th>\n",
       "      <th>강남구</th>\n",
       "      <th>2019년(생활폐기물)-톤</th>\n",
       "      <th>2020년(생활폐기물)-톤</th>\n",
       "    </tr>\n",
       "  </thead>\n",
       "  <tbody>\n",
       "    <tr>\n",
       "      <th>0</th>\n",
       "      <td>01월</td>\n",
       "      <td>7550</td>\n",
       "      <td>7350</td>\n",
       "    </tr>\n",
       "    <tr>\n",
       "      <th>1</th>\n",
       "      <td>02월</td>\n",
       "      <td>6387</td>\n",
       "      <td>6688</td>\n",
       "    </tr>\n",
       "    <tr>\n",
       "      <th>2</th>\n",
       "      <td>03월</td>\n",
       "      <td>7198</td>\n",
       "      <td>6973</td>\n",
       "    </tr>\n",
       "    <tr>\n",
       "      <th>3</th>\n",
       "      <td>04월</td>\n",
       "      <td>6820</td>\n",
       "      <td>6448</td>\n",
       "    </tr>\n",
       "    <tr>\n",
       "      <th>4</th>\n",
       "      <td>05월</td>\n",
       "      <td>7767</td>\n",
       "      <td>6470</td>\n",
       "    </tr>\n",
       "    <tr>\n",
       "      <th>5</th>\n",
       "      <td>06월</td>\n",
       "      <td>7275</td>\n",
       "      <td>7923</td>\n",
       "    </tr>\n",
       "    <tr>\n",
       "      <th>6</th>\n",
       "      <td>07월</td>\n",
       "      <td>8164</td>\n",
       "      <td>8015</td>\n",
       "    </tr>\n",
       "    <tr>\n",
       "      <th>7</th>\n",
       "      <td>08월</td>\n",
       "      <td>7807</td>\n",
       "      <td>7859</td>\n",
       "    </tr>\n",
       "    <tr>\n",
       "      <th>8</th>\n",
       "      <td>09월</td>\n",
       "      <td>6811</td>\n",
       "      <td>7452</td>\n",
       "    </tr>\n",
       "    <tr>\n",
       "      <th>9</th>\n",
       "      <td>10월</td>\n",
       "      <td>7222</td>\n",
       "      <td>6875</td>\n",
       "    </tr>\n",
       "    <tr>\n",
       "      <th>10</th>\n",
       "      <td>11월</td>\n",
       "      <td>7592</td>\n",
       "      <td>7337</td>\n",
       "    </tr>\n",
       "    <tr>\n",
       "      <th>11</th>\n",
       "      <td>12월</td>\n",
       "      <td>7298</td>\n",
       "      <td>6911</td>\n",
       "    </tr>\n",
       "  </tbody>\n",
       "</table>\n",
       "</div>"
      ],
      "text/plain": [
       "    강남구  2019년(생활폐기물)-톤  2020년(생활폐기물)-톤\n",
       "0   01월            7550            7350\n",
       "1   02월            6387            6688\n",
       "2   03월            7198            6973\n",
       "3   04월            6820            6448\n",
       "4   05월            7767            6470\n",
       "5   06월            7275            7923\n",
       "6   07월            8164            8015\n",
       "7   08월            7807            7859\n",
       "8   09월            6811            7452\n",
       "9   10월            7222            6875\n",
       "10  11월            7592            7337\n",
       "11  12월            7298            6911"
      ]
     },
     "execution_count": 159,
     "metadata": {},
     "output_type": "execute_result"
    }
   ],
   "source": [
    "pd.read_csv(\"서울특별시 강남구_생활폐기물배출량_20221019.csv\", encoding='cp949')"
   ]
  }
 ],
 "metadata": {
  "kernelspec": {
   "display_name": "Python 3 (ipykernel)",
   "language": "python",
   "name": "python3"
  },
  "language_info": {
   "codemirror_mode": {
    "name": "ipython",
    "version": 3
   },
   "file_extension": ".py",
   "mimetype": "text/x-python",
   "name": "python",
   "nbconvert_exporter": "python",
   "pygments_lexer": "ipython3",
   "version": "3.9.13"
  }
 },
 "nbformat": 4,
 "nbformat_minor": 5
}
